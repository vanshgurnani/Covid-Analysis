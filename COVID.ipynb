{
  "nbformat": 4,
  "nbformat_minor": 0,
  "metadata": {
    "colab": {
      "provenance": [],
      "authorship_tag": "ABX9TyMcudJytCiIXy4vqXNqkXUQ",
      "include_colab_link": true
    },
    "kernelspec": {
      "name": "python3",
      "display_name": "Python 3"
    },
    "language_info": {
      "name": "python"
    }
  },
  "cells": [
    {
      "cell_type": "markdown",
      "metadata": {
        "id": "view-in-github",
        "colab_type": "text"
      },
      "source": [
        "<a href=\"https://colab.research.google.com/github/vanshgurnani/Covid-Analysis/blob/main/COVID.ipynb\" target=\"_parent\"><img src=\"https://colab.research.google.com/assets/colab-badge.svg\" alt=\"Open In Colab\"/></a>"
      ]
    },
    {
      "cell_type": "code",
      "execution_count": 414,
      "metadata": {
        "id": "XLgvTj-Hs1Qc"
      },
      "outputs": [],
      "source": [
        "import pandas as pd\n",
        "import numpy as np\n",
        "import seaborn as sns\n",
        "import matplotlib.pyplot as plt"
      ]
    },
    {
      "cell_type": "code",
      "source": [
        "df=pd.read_csv('COVID.csv',encoding='latin').drop([0], axis=0)\n",
        "df.head(3)"
      ],
      "metadata": {
        "colab": {
          "base_uri": "https://localhost:8080/",
          "height": 314
        },
        "id": "lgbGuzzguDPb",
        "outputId": "348196dc-8145-4b3b-8d1b-45dd9b1c7fa9"
      },
      "execution_count": 415,
      "outputs": [
        {
          "output_type": "execute_result",
          "data": {
            "text/plain": [
              "   SR NO  REG NO NAME OF THE PATIENT  AGE   SEX HOSPITAL NAME   WAVE  \\\n",
              "1      2  994605                 SSD   39  MALE     K N BAJAJ  FIRST   \n",
              "2      3  994109                 PSR   35  MALE     K N BAJAJ  FIRST   \n",
              "3      4  994557                 BCK   65  MALE     K N BAJAJ  FIRST   \n",
              "\n",
              "  DATE OF ADMISSION DATE OF DISCHARGE  Duration of hospital stay IN DAYS  ...  \\\n",
              "1         02-Oct-20         08-Oct-20                                  7  ...   \n",
              "2         28-Sep-20         05-Oct-20                                  8  ...   \n",
              "3         01-Oct-20         07-Oct-20                                  7  ...   \n",
              "\n",
              "          Steroid Steroid Type Steoid dose  day Steroid started on Day  \\\n",
              "1  INJDEXA 6MG OD      MISSING            7DAYS                      1   \n",
              "2               Y         Dexa           4mg od             28.09.2020   \n",
              "3               Y         DEXA          6 MG OD              1.10.2020   \n",
              "\n",
              "  Steroid Total Duration LMWH Heparin Length of ICU stay in days  \\\n",
              "1                  7DAYS         LMWH                          7   \n",
              "2                  8DAYS         LMWH                          6   \n",
              "3                  7DAYS         lMWH                          4   \n",
              "\n",
              "  Length of Hospital stay in days Outcome in ICU Inhospital outcome  \n",
              "1                               7          7DAYS            MISSING  \n",
              "2                               8          shift         DISCHARGED  \n",
              "3                               7          shift         DISCHARGED  \n",
              "\n",
              "[3 rows x 64 columns]"
            ],
            "text/html": [
              "\n",
              "  <div id=\"df-908206a5-3627-4574-a687-0250cace5417\" class=\"colab-df-container\">\n",
              "    <div>\n",
              "<style scoped>\n",
              "    .dataframe tbody tr th:only-of-type {\n",
              "        vertical-align: middle;\n",
              "    }\n",
              "\n",
              "    .dataframe tbody tr th {\n",
              "        vertical-align: top;\n",
              "    }\n",
              "\n",
              "    .dataframe thead th {\n",
              "        text-align: right;\n",
              "    }\n",
              "</style>\n",
              "<table border=\"1\" class=\"dataframe\">\n",
              "  <thead>\n",
              "    <tr style=\"text-align: right;\">\n",
              "      <th></th>\n",
              "      <th>SR NO</th>\n",
              "      <th>REG NO</th>\n",
              "      <th>NAME OF THE PATIENT</th>\n",
              "      <th>AGE</th>\n",
              "      <th>SEX</th>\n",
              "      <th>HOSPITAL NAME</th>\n",
              "      <th>WAVE</th>\n",
              "      <th>DATE OF ADMISSION</th>\n",
              "      <th>DATE OF DISCHARGE</th>\n",
              "      <th>Duration of hospital stay IN DAYS</th>\n",
              "      <th>...</th>\n",
              "      <th>Steroid</th>\n",
              "      <th>Steroid Type</th>\n",
              "      <th>Steoid dose  day</th>\n",
              "      <th>Steroid started on Day</th>\n",
              "      <th>Steroid Total Duration</th>\n",
              "      <th>LMWH Heparin</th>\n",
              "      <th>Length of ICU stay in days</th>\n",
              "      <th>Length of Hospital stay in days</th>\n",
              "      <th>Outcome in ICU</th>\n",
              "      <th>Inhospital outcome</th>\n",
              "    </tr>\n",
              "  </thead>\n",
              "  <tbody>\n",
              "    <tr>\n",
              "      <th>1</th>\n",
              "      <td>2</td>\n",
              "      <td>994605</td>\n",
              "      <td>SSD</td>\n",
              "      <td>39</td>\n",
              "      <td>MALE</td>\n",
              "      <td>K N BAJAJ</td>\n",
              "      <td>FIRST</td>\n",
              "      <td>02-Oct-20</td>\n",
              "      <td>08-Oct-20</td>\n",
              "      <td>7</td>\n",
              "      <td>...</td>\n",
              "      <td>INJDEXA 6MG OD</td>\n",
              "      <td>MISSING</td>\n",
              "      <td>7DAYS</td>\n",
              "      <td>1</td>\n",
              "      <td>7DAYS</td>\n",
              "      <td>LMWH</td>\n",
              "      <td>7</td>\n",
              "      <td>7</td>\n",
              "      <td>7DAYS</td>\n",
              "      <td>MISSING</td>\n",
              "    </tr>\n",
              "    <tr>\n",
              "      <th>2</th>\n",
              "      <td>3</td>\n",
              "      <td>994109</td>\n",
              "      <td>PSR</td>\n",
              "      <td>35</td>\n",
              "      <td>MALE</td>\n",
              "      <td>K N BAJAJ</td>\n",
              "      <td>FIRST</td>\n",
              "      <td>28-Sep-20</td>\n",
              "      <td>05-Oct-20</td>\n",
              "      <td>8</td>\n",
              "      <td>...</td>\n",
              "      <td>Y</td>\n",
              "      <td>Dexa</td>\n",
              "      <td>4mg od</td>\n",
              "      <td>28.09.2020</td>\n",
              "      <td>8DAYS</td>\n",
              "      <td>LMWH</td>\n",
              "      <td>6</td>\n",
              "      <td>8</td>\n",
              "      <td>shift</td>\n",
              "      <td>DISCHARGED</td>\n",
              "    </tr>\n",
              "    <tr>\n",
              "      <th>3</th>\n",
              "      <td>4</td>\n",
              "      <td>994557</td>\n",
              "      <td>BCK</td>\n",
              "      <td>65</td>\n",
              "      <td>MALE</td>\n",
              "      <td>K N BAJAJ</td>\n",
              "      <td>FIRST</td>\n",
              "      <td>01-Oct-20</td>\n",
              "      <td>07-Oct-20</td>\n",
              "      <td>7</td>\n",
              "      <td>...</td>\n",
              "      <td>Y</td>\n",
              "      <td>DEXA</td>\n",
              "      <td>6 MG OD</td>\n",
              "      <td>1.10.2020</td>\n",
              "      <td>7DAYS</td>\n",
              "      <td>lMWH</td>\n",
              "      <td>4</td>\n",
              "      <td>7</td>\n",
              "      <td>shift</td>\n",
              "      <td>DISCHARGED</td>\n",
              "    </tr>\n",
              "  </tbody>\n",
              "</table>\n",
              "<p>3 rows × 64 columns</p>\n",
              "</div>\n",
              "    <div class=\"colab-df-buttons\">\n",
              "\n",
              "  <div class=\"colab-df-container\">\n",
              "    <button class=\"colab-df-convert\" onclick=\"convertToInteractive('df-908206a5-3627-4574-a687-0250cace5417')\"\n",
              "            title=\"Convert this dataframe to an interactive table.\"\n",
              "            style=\"display:none;\">\n",
              "\n",
              "  <svg xmlns=\"http://www.w3.org/2000/svg\" height=\"24px\" viewBox=\"0 -960 960 960\">\n",
              "    <path d=\"M120-120v-720h720v720H120Zm60-500h600v-160H180v160Zm220 220h160v-160H400v160Zm0 220h160v-160H400v160ZM180-400h160v-160H180v160Zm440 0h160v-160H620v160ZM180-180h160v-160H180v160Zm440 0h160v-160H620v160Z\"/>\n",
              "  </svg>\n",
              "    </button>\n",
              "\n",
              "  <style>\n",
              "    .colab-df-container {\n",
              "      display:flex;\n",
              "      gap: 12px;\n",
              "    }\n",
              "\n",
              "    .colab-df-convert {\n",
              "      background-color: #E8F0FE;\n",
              "      border: none;\n",
              "      border-radius: 50%;\n",
              "      cursor: pointer;\n",
              "      display: none;\n",
              "      fill: #1967D2;\n",
              "      height: 32px;\n",
              "      padding: 0 0 0 0;\n",
              "      width: 32px;\n",
              "    }\n",
              "\n",
              "    .colab-df-convert:hover {\n",
              "      background-color: #E2EBFA;\n",
              "      box-shadow: 0px 1px 2px rgba(60, 64, 67, 0.3), 0px 1px 3px 1px rgba(60, 64, 67, 0.15);\n",
              "      fill: #174EA6;\n",
              "    }\n",
              "\n",
              "    .colab-df-buttons div {\n",
              "      margin-bottom: 4px;\n",
              "    }\n",
              "\n",
              "    [theme=dark] .colab-df-convert {\n",
              "      background-color: #3B4455;\n",
              "      fill: #D2E3FC;\n",
              "    }\n",
              "\n",
              "    [theme=dark] .colab-df-convert:hover {\n",
              "      background-color: #434B5C;\n",
              "      box-shadow: 0px 1px 3px 1px rgba(0, 0, 0, 0.15);\n",
              "      filter: drop-shadow(0px 1px 2px rgba(0, 0, 0, 0.3));\n",
              "      fill: #FFFFFF;\n",
              "    }\n",
              "  </style>\n",
              "\n",
              "    <script>\n",
              "      const buttonEl =\n",
              "        document.querySelector('#df-908206a5-3627-4574-a687-0250cace5417 button.colab-df-convert');\n",
              "      buttonEl.style.display =\n",
              "        google.colab.kernel.accessAllowed ? 'block' : 'none';\n",
              "\n",
              "      async function convertToInteractive(key) {\n",
              "        const element = document.querySelector('#df-908206a5-3627-4574-a687-0250cace5417');\n",
              "        const dataTable =\n",
              "          await google.colab.kernel.invokeFunction('convertToInteractive',\n",
              "                                                    [key], {});\n",
              "        if (!dataTable) return;\n",
              "\n",
              "        const docLinkHtml = 'Like what you see? Visit the ' +\n",
              "          '<a target=\"_blank\" href=https://colab.research.google.com/notebooks/data_table.ipynb>data table notebook</a>'\n",
              "          + ' to learn more about interactive tables.';\n",
              "        element.innerHTML = '';\n",
              "        dataTable['output_type'] = 'display_data';\n",
              "        await google.colab.output.renderOutput(dataTable, element);\n",
              "        const docLink = document.createElement('div');\n",
              "        docLink.innerHTML = docLinkHtml;\n",
              "        element.appendChild(docLink);\n",
              "      }\n",
              "    </script>\n",
              "  </div>\n",
              "\n",
              "\n",
              "<div id=\"df-9806498f-24d3-43ec-b33b-27b7009bdbbb\">\n",
              "  <button class=\"colab-df-quickchart\" onclick=\"quickchart('df-9806498f-24d3-43ec-b33b-27b7009bdbbb')\"\n",
              "            title=\"Suggest charts.\"\n",
              "            style=\"display:none;\">\n",
              "\n",
              "<svg xmlns=\"http://www.w3.org/2000/svg\" height=\"24px\"viewBox=\"0 0 24 24\"\n",
              "     width=\"24px\">\n",
              "    <g>\n",
              "        <path d=\"M19 3H5c-1.1 0-2 .9-2 2v14c0 1.1.9 2 2 2h14c1.1 0 2-.9 2-2V5c0-1.1-.9-2-2-2zM9 17H7v-7h2v7zm4 0h-2V7h2v10zm4 0h-2v-4h2v4z\"/>\n",
              "    </g>\n",
              "</svg>\n",
              "  </button>\n",
              "\n",
              "<style>\n",
              "  .colab-df-quickchart {\n",
              "      --bg-color: #E8F0FE;\n",
              "      --fill-color: #1967D2;\n",
              "      --hover-bg-color: #E2EBFA;\n",
              "      --hover-fill-color: #174EA6;\n",
              "      --disabled-fill-color: #AAA;\n",
              "      --disabled-bg-color: #DDD;\n",
              "  }\n",
              "\n",
              "  [theme=dark] .colab-df-quickchart {\n",
              "      --bg-color: #3B4455;\n",
              "      --fill-color: #D2E3FC;\n",
              "      --hover-bg-color: #434B5C;\n",
              "      --hover-fill-color: #FFFFFF;\n",
              "      --disabled-bg-color: #3B4455;\n",
              "      --disabled-fill-color: #666;\n",
              "  }\n",
              "\n",
              "  .colab-df-quickchart {\n",
              "    background-color: var(--bg-color);\n",
              "    border: none;\n",
              "    border-radius: 50%;\n",
              "    cursor: pointer;\n",
              "    display: none;\n",
              "    fill: var(--fill-color);\n",
              "    height: 32px;\n",
              "    padding: 0;\n",
              "    width: 32px;\n",
              "  }\n",
              "\n",
              "  .colab-df-quickchart:hover {\n",
              "    background-color: var(--hover-bg-color);\n",
              "    box-shadow: 0 1px 2px rgba(60, 64, 67, 0.3), 0 1px 3px 1px rgba(60, 64, 67, 0.15);\n",
              "    fill: var(--button-hover-fill-color);\n",
              "  }\n",
              "\n",
              "  .colab-df-quickchart-complete:disabled,\n",
              "  .colab-df-quickchart-complete:disabled:hover {\n",
              "    background-color: var(--disabled-bg-color);\n",
              "    fill: var(--disabled-fill-color);\n",
              "    box-shadow: none;\n",
              "  }\n",
              "\n",
              "  .colab-df-spinner {\n",
              "    border: 2px solid var(--fill-color);\n",
              "    border-color: transparent;\n",
              "    border-bottom-color: var(--fill-color);\n",
              "    animation:\n",
              "      spin 1s steps(1) infinite;\n",
              "  }\n",
              "\n",
              "  @keyframes spin {\n",
              "    0% {\n",
              "      border-color: transparent;\n",
              "      border-bottom-color: var(--fill-color);\n",
              "      border-left-color: var(--fill-color);\n",
              "    }\n",
              "    20% {\n",
              "      border-color: transparent;\n",
              "      border-left-color: var(--fill-color);\n",
              "      border-top-color: var(--fill-color);\n",
              "    }\n",
              "    30% {\n",
              "      border-color: transparent;\n",
              "      border-left-color: var(--fill-color);\n",
              "      border-top-color: var(--fill-color);\n",
              "      border-right-color: var(--fill-color);\n",
              "    }\n",
              "    40% {\n",
              "      border-color: transparent;\n",
              "      border-right-color: var(--fill-color);\n",
              "      border-top-color: var(--fill-color);\n",
              "    }\n",
              "    60% {\n",
              "      border-color: transparent;\n",
              "      border-right-color: var(--fill-color);\n",
              "    }\n",
              "    80% {\n",
              "      border-color: transparent;\n",
              "      border-right-color: var(--fill-color);\n",
              "      border-bottom-color: var(--fill-color);\n",
              "    }\n",
              "    90% {\n",
              "      border-color: transparent;\n",
              "      border-bottom-color: var(--fill-color);\n",
              "    }\n",
              "  }\n",
              "</style>\n",
              "\n",
              "  <script>\n",
              "    async function quickchart(key) {\n",
              "      const quickchartButtonEl =\n",
              "        document.querySelector('#' + key + ' button');\n",
              "      quickchartButtonEl.disabled = true;  // To prevent multiple clicks.\n",
              "      quickchartButtonEl.classList.add('colab-df-spinner');\n",
              "      try {\n",
              "        const charts = await google.colab.kernel.invokeFunction(\n",
              "            'suggestCharts', [key], {});\n",
              "      } catch (error) {\n",
              "        console.error('Error during call to suggestCharts:', error);\n",
              "      }\n",
              "      quickchartButtonEl.classList.remove('colab-df-spinner');\n",
              "      quickchartButtonEl.classList.add('colab-df-quickchart-complete');\n",
              "    }\n",
              "    (() => {\n",
              "      let quickchartButtonEl =\n",
              "        document.querySelector('#df-9806498f-24d3-43ec-b33b-27b7009bdbbb button');\n",
              "      quickchartButtonEl.style.display =\n",
              "        google.colab.kernel.accessAllowed ? 'block' : 'none';\n",
              "    })();\n",
              "  </script>\n",
              "</div>\n",
              "    </div>\n",
              "  </div>\n"
            ]
          },
          "metadata": {},
          "execution_count": 415
        }
      ]
    },
    {
      "cell_type": "code",
      "source": [
        "df=df.dropna()"
      ],
      "metadata": {
        "id": "PNjsfHwBTqF_"
      },
      "execution_count": 416,
      "outputs": []
    },
    {
      "cell_type": "code",
      "source": [
        "df=df.drop(['NAME OF THE PATIENT','HOSPITAL NAME','SR NO','REG NO','COMPLAINTS','DIRECT BILIRUBIN',\n",
        "            'HYPOTHYROIDISM','TOCI DAY from Admission','COVID19 POSITIVE NEGATIVE','PROCAL',\n",
        "            'DIRECT BILIRUBIN','BAROTRUMA','barotrauma INCIDENCE','Toci Day from COVID symptoms','CKD','MALIGNANCY',\n",
        "            'TOCI','RESPIRATORY DISORDERS','TYPE OF BAROTRAUMA','LMWH Heparin','INTUBATION Required','INTUBATION ON day from admission','HFNC NIV CPAP'\n",
        "            ,'WAVE','Inhospital outcome','Outcome in ICU'],axis=1)"
      ],
      "metadata": {
        "id": "LD0h3H6WjFpL"
      },
      "execution_count": 417,
      "outputs": []
    },
    {
      "cell_type": "code",
      "source": [
        "df['hb']=df['Hb'].replace(['MISSING'],0)\n",
        "df['tlc']=df['TLC'].replace(['MISSING'],0)\n",
        "df['crp']=df['CRP'].replace(['MISSING'],0)\n",
        "df['d dimer']=df['D DIMER'].replace(['MISSING'],0)\n",
        "df['creatinine']=df['CREATININE'].replace(['MISSING'],0)\n",
        "\n",
        "df['il6']=df['IL6'].replace(['MISSING'],0)\n",
        "df['ldh']=df['LDH'].replace(['MISSING'],0)\n",
        "df['ferritin']=df['FERRITIN'].replace(['MISSING'],0)\n",
        "df['total bilirubin']=df['Total Bilirubin'].replace(['MISSING'],0)\n",
        "df['alt']=df['ALT'].replace(['MISSING'],0)\n",
        "df['ast']=df['AST'].replace(['MISSING'],0)\n",
        "df['albumin']=df['ALBUMIN'].replace(['MISSING'],0)"
      ],
      "metadata": {
        "id": "1Ixc7WFa1d8T"
      },
      "execution_count": 418,
      "outputs": []
    },
    {
      "cell_type": "code",
      "source": [
        "df=df.drop(['Hb','TLC','CRP','D DIMER','CREATININE','IL6','LDH','FERRITIN','Total Bilirubin','ALT','AST','ALBUMIN'],axis=1)"
      ],
      "metadata": {
        "id": "emgbCFwzxEIx"
      },
      "execution_count": 419,
      "outputs": []
    },
    {
      "cell_type": "code",
      "source": [
        "df['hb']=df['hb'].astype(str).astype(float)\n",
        "df['tlc']=df['tlc'].astype(str).astype(float)\n",
        "df['crp']=df['crp'].astype(str).astype(float)\n",
        "df['d dimer']=df['d dimer'].astype(str).astype(float)\n",
        "df['creatinine']=df['creatinine'].astype(str).astype(float)\n",
        "\n",
        "df['il6']=df['il6'].astype(str).astype(float)\n",
        "df['ldh']=df['ldh'].astype(str).astype(float)\n",
        "df['ferritin']=df['ferritin'].astype(str).astype(float)\n",
        "df['total bilirubin']=df['total bilirubin'].astype(str).astype(float)\n",
        "df['alt']=df['alt'].astype(str).astype(float)\n",
        "df['ast']=df['ast'].astype(str).astype(float)\n",
        "df['albumin']=df['albumin'].astype(str).astype(float)"
      ],
      "metadata": {
        "id": "r06tTgn2xkrV"
      },
      "execution_count": 420,
      "outputs": []
    },
    {
      "cell_type": "code",
      "source": [
        "df['hb'].mean()\n",
        "df['hb'] = df['hb'].replace([0],df['hb'].mean())\n",
        "\n",
        "df['tlc'].mean()\n",
        "df['tlc'] = df['tlc'].replace([0],df['tlc'].mean())\n",
        "\n",
        "df['crp'].mean()\n",
        "df['crp'] = df['crp'].replace([0],df['crp'].mean())\n",
        "\n",
        "df['d dimer'].mean()\n",
        "df['d dimer'] = df['d dimer'].replace([0],df['d dimer'].mean())\n",
        "\n",
        "df['creatinine'].mean()\n",
        "df['creatinine'] = df['creatinine'].replace([0],df['creatinine'].mean())\n",
        "\n",
        "df['il6'].mean()\n",
        "df['il6'] = df['il6'].replace([0],df['il6'].mean())\n",
        "\n",
        "df['ldh'].mean()\n",
        "df['ldh'] = df['ldh'].replace([0],df['ldh'].mean())\n",
        "\n",
        "df['ferritin'].mean()\n",
        "df['ferritin'] = df['ferritin'].replace([0],df['ferritin'].mean())\n",
        "\n",
        "df['total bilirubin'].mean()\n",
        "df['total bilirubin'] = df['total bilirubin'].replace([0],df['total bilirubin'].mean())\n",
        "\n",
        "\n",
        "df['alt'].mean()\n",
        "df['alt'] = df['alt'].replace([0],df['alt'].mean())\n",
        "\n",
        "df['ast'].mean()\n",
        "df['ast'] = df['ast'].replace([0],df['ast'].mean())\n",
        "\n",
        "df['albumin'].mean()\n",
        "df['albumin'] = df['albumin'].replace([0],df['albumin'].mean())"
      ],
      "metadata": {
        "id": "JNB9bxeNs0oO"
      },
      "execution_count": 421,
      "outputs": []
    },
    {
      "cell_type": "code",
      "source": [
        "# df['HRCT_score']=df['HRCT_score'].apply(lambda x:)"
      ],
      "metadata": {
        "id": "4j5QxxydzjLq"
      },
      "execution_count": 422,
      "outputs": []
    },
    {
      "cell_type": "code",
      "source": [
        "df['hrct']=df['HRCT_score'].replace(['MISSING'],0)"
      ],
      "metadata": {
        "id": "pOerL-vg09e_"
      },
      "execution_count": 423,
      "outputs": []
    },
    {
      "cell_type": "code",
      "source": [
        "df['hrct']=df['hrct'].apply(lambda x:str(x)[-2:])"
      ],
      "metadata": {
        "id": "iu4R-kFO1W9N"
      },
      "execution_count": 424,
      "outputs": []
    },
    {
      "cell_type": "code",
      "source": [
        "df['hrct']=df['hrct'].replace(['ne'],0)"
      ],
      "metadata": {
        "id": "IV1LfsCf3vq9"
      },
      "execution_count": 425,
      "outputs": []
    },
    {
      "cell_type": "code",
      "source": [
        "df['hrct']=df['hrct'].astype(str).astype(int)"
      ],
      "metadata": {
        "id": "-oJutrxk4S7E"
      },
      "execution_count": 426,
      "outputs": []
    },
    {
      "cell_type": "code",
      "source": [
        "df=df.drop(['HRCT_score'],axis=1)"
      ],
      "metadata": {
        "id": "Sc-MEbDG4hkT"
      },
      "execution_count": 427,
      "outputs": []
    },
    {
      "cell_type": "code",
      "source": [
        "df['doa']=pd.to_datetime(df['DATE OF ADMISSION'])\n",
        "df['dod']=pd.to_datetime(df['DATE OF DISCHARGE'])"
      ],
      "metadata": {
        "id": "aHiwcm0f42P2"
      },
      "execution_count": 428,
      "outputs": []
    },
    {
      "cell_type": "code",
      "source": [
        "df['doam']=df['doa'].apply(lambda time:time.month)\n",
        "df['doadw']=df['doa'].apply(lambda time:time.dayofweek)\n",
        "\n",
        "df['dodm']=df['dod'].apply(lambda time:time.month)\n",
        "df['doddw']=df['dod'].apply(lambda time:time.dayofweek)"
      ],
      "metadata": {
        "id": "CKkmjSSG71nk"
      },
      "execution_count": 429,
      "outputs": []
    },
    {
      "cell_type": "code",
      "source": [
        "print(df['doam'].value_counts())\n",
        "print(df['doadw'].value_counts())\n",
        "print(df['dodm'].value_counts())\n",
        "print(df['doddw'].value_counts())"
      ],
      "metadata": {
        "colab": {
          "base_uri": "https://localhost:8080/"
        },
        "id": "qsFrZTB_8Wrr",
        "outputId": "cebe41c5-8917-4874-d507-bd8a334ba164"
      },
      "execution_count": 430,
      "outputs": [
        {
          "output_type": "stream",
          "name": "stdout",
          "text": [
            "10    27\n",
            "9     18\n",
            "Name: doam, dtype: int64\n",
            "4    14\n",
            "5    10\n",
            "0     6\n",
            "1     5\n",
            "2     4\n",
            "3     3\n",
            "6     3\n",
            "Name: doadw, dtype: int64\n",
            "10    43\n",
            "9      1\n",
            "1      1\n",
            "Name: dodm, dtype: int64\n",
            "1    10\n",
            "3     8\n",
            "0     8\n",
            "4     7\n",
            "5     7\n",
            "2     5\n",
            "Name: doddw, dtype: int64\n"
          ]
        }
      ]
    },
    {
      "cell_type": "code",
      "source": [
        "sns.countplot(x='doadw',data=df)"
      ],
      "metadata": {
        "colab": {
          "base_uri": "https://localhost:8080/",
          "height": 466
        },
        "id": "u570DC_e-Xf-",
        "outputId": "e59acfcd-970a-4572-dfc2-020cca3a537b"
      },
      "execution_count": 431,
      "outputs": [
        {
          "output_type": "execute_result",
          "data": {
            "text/plain": [
              "<Axes: xlabel='doadw', ylabel='count'>"
            ]
          },
          "metadata": {},
          "execution_count": 431
        },
        {
          "output_type": "display_data",
          "data": {
            "text/plain": [
              "<Figure size 640x480 with 1 Axes>"
            ],
            "image/png": "[encoded data removed]"
          },
          "metadata": {}
        }
      ]
    },
    {
      "cell_type": "code",
      "source": [
        "sns.countplot(x='doddw',data=df)"
      ],
      "metadata": {
        "colab": {
          "base_uri": "https://localhost:8080/",
          "height": 466
        },
        "id": "HY-CK6cB-fR1",
        "outputId": "cac571c8-d598-4185-ce9e-474faf4c8b13"
      },
      "execution_count": 432,
      "outputs": [
        {
          "output_type": "execute_result",
          "data": {
            "text/plain": [
              "<Axes: xlabel='doddw', ylabel='count'>"
            ]
          },
          "metadata": {},
          "execution_count": 432
        },
        {
          "output_type": "display_data",
          "data": {
            "text/plain": [
              "<Figure size 640x480 with 1 Axes>"
            ],
            "image/png": "[encoded data removed]"
          },
          "metadata": {}
        }
      ]
    },
    {
      "cell_type": "code",
      "source": [
        "df=df.drop(['DATE OF ADMISSION','DATE OF DISCHARGE'],axis=1)"
      ],
      "metadata": {
        "id": "ORaYelBl-mqD"
      },
      "execution_count": 433,
      "outputs": []
    },
    {
      "cell_type": "code",
      "source": [
        "df['swab']=pd.to_datetime(df['SWAB SENT ON'])\n",
        "df['swabm']=df['swab'].apply(lambda time:time.month)\n",
        "df['swabdw']=df['swab'].apply(lambda time:time.dayofweek)\n",
        "df=df.drop(['SWAB SENT ON'],axis=1)\n",
        "\n",
        "print(df['swabm'].value_counts())\n",
        "print(df['swabdw'].value_counts())"
      ],
      "metadata": {
        "colab": {
          "base_uri": "https://localhost:8080/"
        },
        "id": "MhsYahH1TV0_",
        "outputId": "9491ad7b-7a00-447d-bde1-046af75b6431"
      },
      "execution_count": 434,
      "outputs": [
        {
          "output_type": "stream",
          "name": "stdout",
          "text": [
            "10    25\n",
            "9     20\n",
            "Name: swabm, dtype: int64\n",
            "5    10\n",
            "3     9\n",
            "2     9\n",
            "4     6\n",
            "0     5\n",
            "6     3\n",
            "1     3\n",
            "Name: swabdw, dtype: int64\n"
          ]
        }
      ]
    },
    {
      "cell_type": "code",
      "source": [
        "sns.countplot(x='swabdw',data=df)"
      ],
      "metadata": {
        "colab": {
          "base_uri": "https://localhost:8080/",
          "height": 466
        },
        "id": "X6Dh-edzWCNT",
        "outputId": "34d39a0c-82e5-44b0-ea0f-558c5327c056"
      },
      "execution_count": 435,
      "outputs": [
        {
          "output_type": "execute_result",
          "data": {
            "text/plain": [
              "<Axes: xlabel='swabdw', ylabel='count'>"
            ]
          },
          "metadata": {},
          "execution_count": 435
        },
        {
          "output_type": "display_data",
          "data": {
            "text/plain": [
              "<Figure size 640x480 with 1 Axes>"
            ],
            "image/png": "[encoded data removed]"
          },
          "metadata": {}
        }
      ]
    },
    {
      "cell_type": "code",
      "source": [
        "df['Fever']=df['Fever'].replace(['MISSING'],'NO')"
      ],
      "metadata": {
        "id": "EKpeXrIB_ANP"
      },
      "execution_count": 436,
      "outputs": []
    },
    {
      "cell_type": "code",
      "source": [
        "print(df['Fever'].value_counts())\n",
        "print(df['Cough'].value_counts())\n",
        "print(df['Sore throat'].value_counts())\n",
        "print(df['Myalgia bodyache'].value_counts())\n",
        "print(df['Breathlessness'].value_counts())"
      ],
      "metadata": {
        "colab": {
          "base_uri": "https://localhost:8080/"
        },
        "id": "218ahDEPaOwH",
        "outputId": "9f6e125c-7f0d-42b1-cc3d-67b422aacd3b"
      },
      "execution_count": 437,
      "outputs": [
        {
          "output_type": "stream",
          "name": "stdout",
          "text": [
            "YES    39\n",
            "NO      6\n",
            "Name: Fever, dtype: int64\n",
            "YES    33\n",
            "NO     12\n",
            "Name: Cough, dtype: int64\n",
            "NO     31\n",
            "YES    14\n",
            "Name: Sore throat, dtype: int64\n",
            "NO     38\n",
            "YES     7\n",
            "Name: Myalgia bodyache, dtype: int64\n",
            "NO     25\n",
            "YES    20\n",
            "Name: Breathlessness, dtype: int64\n"
          ]
        }
      ]
    },
    {
      "cell_type": "code",
      "source": [
        "df['Other symptoms'].value_counts()"
      ],
      "metadata": {
        "colab": {
          "base_uri": "https://localhost:8080/"
        },
        "id": "G2Tdn5Y6cWSY",
        "outputId": "c34ead6b-59ce-4558-b24f-8b558ffce9fb"
      },
      "execution_count": 438,
      "outputs": [
        {
          "output_type": "execute_result",
          "data": {
            "text/plain": [
              "N                            37\n",
              "Y                             2\n",
              "HEADACHE                      1\n",
              "GIDDINESS                     1\n",
              "ALTERED TASTE                 1\n",
              "ALTERTED TASTE                1\n",
              "LOSS OF TASTE                 1\n",
              "WEAKNESS,LOSS OF APPETITE     1\n",
              "Name: Other symptoms, dtype: int64"
            ]
          },
          "metadata": {},
          "execution_count": 438
        }
      ]
    },
    {
      "cell_type": "code",
      "source": [
        "df['DM']=df['DM'].replace(['MISSING'],'NO')\n",
        "df['DM'].value_counts()"
      ],
      "metadata": {
        "colab": {
          "base_uri": "https://localhost:8080/"
        },
        "id": "zc-0kPspdcXO",
        "outputId": "ecba716e-417e-453f-806f-ee1c4be9c734"
      },
      "execution_count": 439,
      "outputs": [
        {
          "output_type": "execute_result",
          "data": {
            "text/plain": [
              "NO     36\n",
              "YES     9\n",
              "Name: DM, dtype: int64"
            ]
          },
          "metadata": {},
          "execution_count": 439
        }
      ]
    },
    {
      "cell_type": "code",
      "source": [
        "print(df['HTN'].value_counts())\n",
        "df['IHD']=df['IHD'].replace(['MISSING'],'NO')\n",
        "print(df['IHD'].value_counts())"
      ],
      "metadata": {
        "colab": {
          "base_uri": "https://localhost:8080/"
        },
        "id": "oDeFYR_mdwfN",
        "outputId": "af9cac11-2ce3-4531-bbdc-589c5b5574e7"
      },
      "execution_count": 440,
      "outputs": [
        {
          "output_type": "stream",
          "name": "stdout",
          "text": [
            "NO     29\n",
            "YES    16\n",
            "Name: HTN, dtype: int64\n",
            "NO     40\n",
            "YES     5\n",
            "Name: IHD, dtype: int64\n"
          ]
        }
      ]
    },
    {
      "cell_type": "code",
      "source": [
        "df['lenICUstay']=df['Length of ICU stay in days'].replace(['NO','no','No'],0)\n",
        "df=df.drop(['Length of ICU stay in days'],axis=1)\n",
        "\n",
        "df['lenHOSstay']=df['Length of Hospital stay in days'].replace(['MISSING'],0)\n",
        "df=df.drop(['Length of Hospital stay in days'],axis=1)"
      ],
      "metadata": {
        "id": "gcZ0REIOeRrR"
      },
      "execution_count": 441,
      "outputs": []
    },
    {
      "cell_type": "code",
      "source": [
        "df['std']=df['Steroid Total Duration'].apply(lambda x:str(x).split('DAYS')[:1])"
      ],
      "metadata": {
        "id": "rhOlyj4ui4Ns"
      },
      "execution_count": 442,
      "outputs": []
    },
    {
      "cell_type": "code",
      "source": [
        "df['std']=df['std'].apply(lambda x:str(x).join(x))"
      ],
      "metadata": {
        "id": "0ahrcWTAoJTs"
      },
      "execution_count": 443,
      "outputs": []
    },
    {
      "cell_type": "code",
      "source": [
        "df['std']=df['std'].replace(['NO'],0).replace(['09 days'],9)"
      ],
      "metadata": {
        "id": "XKcZhdlXonW7"
      },
      "execution_count": 444,
      "outputs": []
    },
    {
      "cell_type": "code",
      "source": [
        "df=df.drop(['Steroid Total Duration'],axis=1)"
      ],
      "metadata": {
        "id": "KLKbniVMtZGv"
      },
      "execution_count": 445,
      "outputs": []
    },
    {
      "cell_type": "code",
      "source": [
        "df['steroidtype']=df['Steroid Type'].replace(['MISSING'],'NO')\n",
        "df=df.drop(['Steroid Type'],axis=1)"
      ],
      "metadata": {
        "id": "-phvpL4BsHxf"
      },
      "execution_count": 446,
      "outputs": []
    },
    {
      "cell_type": "code",
      "source": [
        "df['steroidtype'].value_counts()"
      ],
      "metadata": {
        "colab": {
          "base_uri": "https://localhost:8080/"
        },
        "id": "FwbbcJhlr8cx",
        "outputId": "51bcd166-31cb-4dab-a7ee-389661a9df78"
      },
      "execution_count": 447,
      "outputs": [
        {
          "output_type": "execute_result",
          "data": {
            "text/plain": [
              "DEXA                      24\n",
              "Dexa                      12\n",
              "NO                         6\n",
              "INJ.METHYLPREDNISOLONE     1\n",
              "INJ MPS                    1\n",
              "METHYLPREDNISOLONE         1\n",
              "Name: steroidtype, dtype: int64"
            ]
          },
          "metadata": {},
          "execution_count": 447
        }
      ]
    },
    {
      "cell_type": "code",
      "source": [
        "df['Steroid']=df['Steroid'].replace(['Y','INJDEXA 6MG OD'],'YES')"
      ],
      "metadata": {
        "id": "Eq4MB6Zvuhxn"
      },
      "execution_count": 448,
      "outputs": []
    },
    {
      "cell_type": "code",
      "source": [
        "df['Steroid'].value_counts()"
      ],
      "metadata": {
        "colab": {
          "base_uri": "https://localhost:8080/"
        },
        "id": "of2gaq7puZDW",
        "outputId": "c9d019bd-0e7b-477a-84e0-82907a69bbd1"
      },
      "execution_count": 449,
      "outputs": [
        {
          "output_type": "execute_result",
          "data": {
            "text/plain": [
              "YES    38\n",
              "NO      7\n",
              "Name: Steroid, dtype: int64"
            ]
          },
          "metadata": {},
          "execution_count": 449
        }
      ]
    },
    {
      "cell_type": "code",
      "source": [
        "df=df.drop(['Steoid dose  day','Steroid started on Day'],axis=1)"
      ],
      "metadata": {
        "id": "j_XkiBaZvMkj"
      },
      "execution_count": 450,
      "outputs": []
    },
    {
      "cell_type": "code",
      "source": [
        "df['COVID symptom start time before admission']=df['COVID symptom start time before admission'].replace(['MISSING'],'23.09.2020')"
      ],
      "metadata": {
        "id": "dV4j-KLFxVuj"
      },
      "execution_count": 451,
      "outputs": []
    },
    {
      "cell_type": "code",
      "source": [
        "df['COVID symptom start time before admission']=pd.to_datetime(df['COVID symptom start time before admission'])"
      ],
      "metadata": {
        "id": "6ClUA7BnwliF",
        "colab": {
          "base_uri": "https://localhost:8080/"
        },
        "outputId": "825f154e-060b-4b84-a7d6-e71dc5bc05ce"
      },
      "execution_count": 452,
      "outputs": [
        {
          "output_type": "stream",
          "name": "stderr",
          "text": [
            "<ipython-input-452-ee02547426f3>:1: UserWarning: Parsing dates in DD/MM/YYYY format when dayfirst=False (the default) was specified. This may lead to inconsistently parsed dates! Specify a format to ensure consistent parsing.\n",
            "  df['COVID symptom start time before admission']=pd.to_datetime(df['COVID symptom start time before admission'])\n"
          ]
        }
      ]
    },
    {
      "cell_type": "code",
      "source": [
        "df['covid symp month']=df['COVID symptom start time before admission'].apply(lambda time:time.month)\n",
        "df['covid symp dw']=df['COVID symptom start time before admission'].apply(lambda time:time.dayofweek)"
      ],
      "metadata": {
        "id": "ZZhyQ736xv5t"
      },
      "execution_count": 453,
      "outputs": []
    },
    {
      "cell_type": "code",
      "source": [
        "df=df.drop(['COVID symptom start time before admission'],axis=1)"
      ],
      "metadata": {
        "id": "qqB69I1EyMwt"
      },
      "execution_count": 454,
      "outputs": []
    },
    {
      "cell_type": "code",
      "source": [
        "df['Fever'].value_counts()"
      ],
      "metadata": {
        "colab": {
          "base_uri": "https://localhost:8080/"
        },
        "id": "BdbsG3x4yplf",
        "outputId": "b1a0f677-f01c-4cd2-9f7d-750e185fbe8b"
      },
      "execution_count": 455,
      "outputs": [
        {
          "output_type": "execute_result",
          "data": {
            "text/plain": [
              "YES    39\n",
              "NO      6\n",
              "Name: Fever, dtype: int64"
            ]
          },
          "metadata": {},
          "execution_count": 455
        }
      ]
    },
    {
      "cell_type": "code",
      "source": [
        "df['Cough'].value_counts()"
      ],
      "metadata": {
        "colab": {
          "base_uri": "https://localhost:8080/"
        },
        "id": "0E5_eU7Wywlv",
        "outputId": "c56039c1-ba20-4960-80c9-fe0554c090e9"
      },
      "execution_count": 456,
      "outputs": [
        {
          "output_type": "execute_result",
          "data": {
            "text/plain": [
              "YES    33\n",
              "NO     12\n",
              "Name: Cough, dtype: int64"
            ]
          },
          "metadata": {},
          "execution_count": 456
        }
      ]
    },
    {
      "cell_type": "code",
      "source": [
        "df['Sore throat'].value_counts()"
      ],
      "metadata": {
        "colab": {
          "base_uri": "https://localhost:8080/"
        },
        "id": "RVIHO5KKy3eJ",
        "outputId": "40e80d64-78d6-4604-a321-89cb5d932728"
      },
      "execution_count": 457,
      "outputs": [
        {
          "output_type": "execute_result",
          "data": {
            "text/plain": [
              "NO     31\n",
              "YES    14\n",
              "Name: Sore throat, dtype: int64"
            ]
          },
          "metadata": {},
          "execution_count": 457
        }
      ]
    },
    {
      "cell_type": "code",
      "source": [
        "df['Myalgia bodyache'].value_counts()"
      ],
      "metadata": {
        "colab": {
          "base_uri": "https://localhost:8080/"
        },
        "id": "6JSAXXfdzCtj",
        "outputId": "496a63be-5643-4236-afe4-7f031a35f859"
      },
      "execution_count": 458,
      "outputs": [
        {
          "output_type": "execute_result",
          "data": {
            "text/plain": [
              "NO     38\n",
              "YES     7\n",
              "Name: Myalgia bodyache, dtype: int64"
            ]
          },
          "metadata": {},
          "execution_count": 458
        }
      ]
    },
    {
      "cell_type": "code",
      "source": [
        "df['Breathlessness'].value_counts()"
      ],
      "metadata": {
        "colab": {
          "base_uri": "https://localhost:8080/"
        },
        "id": "kZlOPIEOzIrN",
        "outputId": "75803b4e-a459-4234-9a04-f7c07fcf05d8"
      },
      "execution_count": 459,
      "outputs": [
        {
          "output_type": "execute_result",
          "data": {
            "text/plain": [
              "NO     25\n",
              "YES    20\n",
              "Name: Breathlessness, dtype: int64"
            ]
          },
          "metadata": {},
          "execution_count": 459
        }
      ]
    },
    {
      "cell_type": "code",
      "source": [
        "df['Other symptoms']=df['Other symptoms'].replace(['HEADACHE','GIDDINESS','ALTERED TASTE','ALTERTED TASTE','LOSS OF TASTE','WEAKNESS,LOSS OF APPETITE'],'Y')"
      ],
      "metadata": {
        "id": "qQWlgindzcIo"
      },
      "execution_count": 460,
      "outputs": []
    },
    {
      "cell_type": "code",
      "source": [
        "df['Other symptoms'].value_counts()"
      ],
      "metadata": {
        "colab": {
          "base_uri": "https://localhost:8080/"
        },
        "id": "4hlzFAV-zQVD",
        "outputId": "b5c6a69c-974c-40b7-ab13-721f231bfefd"
      },
      "execution_count": 461,
      "outputs": [
        {
          "output_type": "execute_result",
          "data": {
            "text/plain": [
              "N    37\n",
              "Y     8\n",
              "Name: Other symptoms, dtype: int64"
            ]
          },
          "metadata": {},
          "execution_count": 461
        }
      ]
    },
    {
      "cell_type": "code",
      "source": [
        "df['DM'].value_counts()"
      ],
      "metadata": {
        "colab": {
          "base_uri": "https://localhost:8080/"
        },
        "id": "EYGLw5fm0HNd",
        "outputId": "010993fd-e744-4fe4-e94a-659d4321e3ff"
      },
      "execution_count": 462,
      "outputs": [
        {
          "output_type": "execute_result",
          "data": {
            "text/plain": [
              "NO     36\n",
              "YES     9\n",
              "Name: DM, dtype: int64"
            ]
          },
          "metadata": {},
          "execution_count": 462
        }
      ]
    },
    {
      "cell_type": "code",
      "source": [
        "df['HTN'].value_counts()"
      ],
      "metadata": {
        "colab": {
          "base_uri": "https://localhost:8080/"
        },
        "id": "BB3JKJrC0Os9",
        "outputId": "6e62674a-df10-4fa5-ea76-fcfd985df4c7"
      },
      "execution_count": 463,
      "outputs": [
        {
          "output_type": "execute_result",
          "data": {
            "text/plain": [
              "NO     29\n",
              "YES    16\n",
              "Name: HTN, dtype: int64"
            ]
          },
          "metadata": {},
          "execution_count": 463
        }
      ]
    },
    {
      "cell_type": "code",
      "source": [
        "df['IHD'].value_counts()"
      ],
      "metadata": {
        "colab": {
          "base_uri": "https://localhost:8080/"
        },
        "id": "QiDD_phN0Rh-",
        "outputId": "489a1079-c02a-477c-d01f-7bfc03b87dfc"
      },
      "execution_count": 464,
      "outputs": [
        {
          "output_type": "execute_result",
          "data": {
            "text/plain": [
              "NO     40\n",
              "YES     5\n",
              "Name: IHD, dtype: int64"
            ]
          },
          "metadata": {},
          "execution_count": 464
        }
      ]
    },
    {
      "cell_type": "code",
      "source": [
        "df=df.drop(['SpO2 on admission','doa','dod','swab'],axis=1)"
      ],
      "metadata": {
        "id": "S4hXPFjq1eAt"
      },
      "execution_count": 465,
      "outputs": []
    },
    {
      "cell_type": "code",
      "source": [
        "df['Oxygen requirement']=df['Oxygen requirement'].replace(['Y','4 Lit.','6LIT','8 LIT','50% FIO2','y'],'YES')"
      ],
      "metadata": {
        "id": "bf4rUnfr2l3R"
      },
      "execution_count": 466,
      "outputs": []
    },
    {
      "cell_type": "code",
      "source": [
        "df['Oxygen requirement']=df['Oxygen requirement'].replace(['No'],'NO')"
      ],
      "metadata": {
        "id": "npP9_HnX3ID6"
      },
      "execution_count": 467,
      "outputs": []
    },
    {
      "cell_type": "code",
      "source": [
        "df['Oxygen requirement'].value_counts()"
      ],
      "metadata": {
        "colab": {
          "base_uri": "https://localhost:8080/"
        },
        "id": "omEeB0jq2dr9",
        "outputId": "3d1c3a91-ab23-4fca-cd4f-aa95c0295cea"
      },
      "execution_count": 468,
      "outputs": [
        {
          "output_type": "execute_result",
          "data": {
            "text/plain": [
              "NO     23\n",
              "YES    22\n",
              "Name: Oxygen requirement, dtype: int64"
            ]
          },
          "metadata": {},
          "execution_count": 468
        }
      ]
    },
    {
      "cell_type": "code",
      "source": [
        "df=df.drop(['Oxygen delivery mode','SEX'],axis=1)"
      ],
      "metadata": {
        "id": "4ry7r_fO4iut"
      },
      "execution_count": 469,
      "outputs": []
    },
    {
      "cell_type": "code",
      "source": [
        "df['Fever']=df['Fever'].replace('YES',1).replace('NO',0)\n",
        "df['Fever'].value_counts()"
      ],
      "metadata": {
        "colab": {
          "base_uri": "https://localhost:8080/"
        },
        "id": "Uj22KSFQ6HIF",
        "outputId": "2c2726e4-0dfe-4387-dbae-9227e3ff1cfe"
      },
      "execution_count": 470,
      "outputs": [
        {
          "output_type": "execute_result",
          "data": {
            "text/plain": [
              "1    39\n",
              "0     6\n",
              "Name: Fever, dtype: int64"
            ]
          },
          "metadata": {},
          "execution_count": 470
        }
      ]
    },
    {
      "cell_type": "code",
      "source": [
        "df['Cough']=df['Cough'].replace('YES',1).replace('NO',0)\n",
        "df['Cough'].value_counts()"
      ],
      "metadata": {
        "colab": {
          "base_uri": "https://localhost:8080/"
        },
        "id": "mrvDRUS5-EH0",
        "outputId": "5117fa5e-4131-4194-d575-7a088488796c"
      },
      "execution_count": 471,
      "outputs": [
        {
          "output_type": "execute_result",
          "data": {
            "text/plain": [
              "1    33\n",
              "0    12\n",
              "Name: Cough, dtype: int64"
            ]
          },
          "metadata": {},
          "execution_count": 471
        }
      ]
    },
    {
      "cell_type": "code",
      "source": [
        "df['Sore throat']=df['Sore throat'].replace('YES',1).replace('NO',0)\n",
        "df['Sore throat'].value_counts()"
      ],
      "metadata": {
        "colab": {
          "base_uri": "https://localhost:8080/"
        },
        "outputId": "c618e71b-646a-44b3-ac75-28df94e5caa6",
        "id": "TPSkk8b8-UsW"
      },
      "execution_count": 472,
      "outputs": [
        {
          "output_type": "execute_result",
          "data": {
            "text/plain": [
              "0    31\n",
              "1    14\n",
              "Name: Sore throat, dtype: int64"
            ]
          },
          "metadata": {},
          "execution_count": 472
        }
      ]
    },
    {
      "cell_type": "code",
      "source": [
        "df['Myalgia bodyache']=df['Myalgia bodyache'].replace('YES',1).replace('NO',0)\n",
        "df['Myalgia bodyache'].value_counts()"
      ],
      "metadata": {
        "colab": {
          "base_uri": "https://localhost:8080/"
        },
        "outputId": "44888988-d348-453f-dc32-bd9cd77c338a",
        "id": "5sWTPocG-VYW"
      },
      "execution_count": 473,
      "outputs": [
        {
          "output_type": "execute_result",
          "data": {
            "text/plain": [
              "0    38\n",
              "1     7\n",
              "Name: Myalgia bodyache, dtype: int64"
            ]
          },
          "metadata": {},
          "execution_count": 473
        }
      ]
    },
    {
      "cell_type": "code",
      "source": [
        "df['Breathlessness']=df['Breathlessness'].replace('YES',1).replace('NO',0)\n",
        "df['Breathlessness'].value_counts()"
      ],
      "metadata": {
        "colab": {
          "base_uri": "https://localhost:8080/"
        },
        "outputId": "fb61f078-12ba-42a6-ebeb-6fd16379b41a",
        "id": "AHXHfVYd-Veu"
      },
      "execution_count": 474,
      "outputs": [
        {
          "output_type": "execute_result",
          "data": {
            "text/plain": [
              "0    25\n",
              "1    20\n",
              "Name: Breathlessness, dtype: int64"
            ]
          },
          "metadata": {},
          "execution_count": 474
        }
      ]
    },
    {
      "cell_type": "code",
      "source": [
        "df['Other symptoms']=df['Other symptoms'].replace('Y',1).replace('N',0)\n",
        "df['Other symptoms'].value_counts()"
      ],
      "metadata": {
        "colab": {
          "base_uri": "https://localhost:8080/"
        },
        "id": "RySCIbeM-qlN",
        "outputId": "9d6b627f-aaf5-49cb-b2e1-c47b1b90602f"
      },
      "execution_count": 475,
      "outputs": [
        {
          "output_type": "execute_result",
          "data": {
            "text/plain": [
              "0    37\n",
              "1     8\n",
              "Name: Other symptoms, dtype: int64"
            ]
          },
          "metadata": {},
          "execution_count": 475
        }
      ]
    },
    {
      "cell_type": "code",
      "source": [
        "df['DM']=df['DM'].replace('YES',1).replace('NO',0)\n",
        "df['DM'].value_counts()"
      ],
      "metadata": {
        "colab": {
          "base_uri": "https://localhost:8080/"
        },
        "id": "XkkN5osH-7In",
        "outputId": "854d0fa1-42f7-4ff3-f9bd-f62861b308b2"
      },
      "execution_count": 476,
      "outputs": [
        {
          "output_type": "execute_result",
          "data": {
            "text/plain": [
              "0    36\n",
              "1     9\n",
              "Name: DM, dtype: int64"
            ]
          },
          "metadata": {},
          "execution_count": 476
        }
      ]
    },
    {
      "cell_type": "code",
      "source": [
        "df['HTN']=df['HTN'].replace('YES',1).replace('NO',0)\n",
        "df['HTN'].value_counts()"
      ],
      "metadata": {
        "colab": {
          "base_uri": "https://localhost:8080/"
        },
        "id": "YhXgSFjP-90b",
        "outputId": "caa937d4-e180-444c-de2d-aff6bf74ff29"
      },
      "execution_count": 477,
      "outputs": [
        {
          "output_type": "execute_result",
          "data": {
            "text/plain": [
              "0    29\n",
              "1    16\n",
              "Name: HTN, dtype: int64"
            ]
          },
          "metadata": {},
          "execution_count": 477
        }
      ]
    },
    {
      "cell_type": "code",
      "source": [
        "df['IHD']=df['IHD'].replace('YES',1).replace('NO',0)\n",
        "df['IHD'].value_counts()"
      ],
      "metadata": {
        "colab": {
          "base_uri": "https://localhost:8080/"
        },
        "id": "41GYrcB5_Egi",
        "outputId": "b36888b7-9761-4400-d155-f9fae9716cee"
      },
      "execution_count": 478,
      "outputs": [
        {
          "output_type": "execute_result",
          "data": {
            "text/plain": [
              "0    40\n",
              "1     5\n",
              "Name: IHD, dtype: int64"
            ]
          },
          "metadata": {},
          "execution_count": 478
        }
      ]
    },
    {
      "cell_type": "code",
      "source": [
        "df['Oxygen requirement']=df['Oxygen requirement'].replace('YES',1).replace('NO',0)\n",
        "df['Oxygen requirement'].value_counts()"
      ],
      "metadata": {
        "colab": {
          "base_uri": "https://localhost:8080/"
        },
        "id": "RKLnAkR9_euL",
        "outputId": "defc3d42-be52-4e8d-9b97-a6881259ca41"
      },
      "execution_count": 479,
      "outputs": [
        {
          "output_type": "execute_result",
          "data": {
            "text/plain": [
              "0    23\n",
              "1    22\n",
              "Name: Oxygen requirement, dtype: int64"
            ]
          },
          "metadata": {},
          "execution_count": 479
        }
      ]
    },
    {
      "cell_type": "code",
      "source": [
        "df['Steroid']=df['Steroid'].replace('YES',1).replace('NO',0)\n",
        "df['Steroid'].value_counts()"
      ],
      "metadata": {
        "colab": {
          "base_uri": "https://localhost:8080/"
        },
        "id": "Q4Bf_fAK_wzT",
        "outputId": "d49e32ed-df5f-409d-8772-150c16211472"
      },
      "execution_count": 480,
      "outputs": [
        {
          "output_type": "execute_result",
          "data": {
            "text/plain": [
              "1    38\n",
              "0     7\n",
              "Name: Steroid, dtype: int64"
            ]
          },
          "metadata": {},
          "execution_count": 480
        }
      ]
    },
    {
      "cell_type": "code",
      "source": [
        "df['std']=df['std'].astype(str).astype(int)"
      ],
      "metadata": {
        "id": "d3i_7tRsNvSn"
      },
      "execution_count": 481,
      "outputs": []
    },
    {
      "cell_type": "code",
      "source": [
        "df['lenICUstay']=df['lenICUstay'].astype(str).astype(int)"
      ],
      "metadata": {
        "id": "MRPIaKUVOIGr"
      },
      "execution_count": 482,
      "outputs": []
    },
    {
      "cell_type": "code",
      "source": [
        "df['lenHOSstay']=df['lenHOSstay'].astype(str).astype(int)"
      ],
      "metadata": {
        "id": "bME1tSaBOfKs"
      },
      "execution_count": 483,
      "outputs": []
    },
    {
      "cell_type": "code",
      "source": [
        "df=df.drop(['steroidtype'],axis=1)"
      ],
      "metadata": {
        "id": "SXNQfXUdQFZh"
      },
      "execution_count": 484,
      "outputs": []
    },
    {
      "cell_type": "code",
      "source": [
        "df.info()"
      ],
      "metadata": {
        "colab": {
          "base_uri": "https://localhost:8080/"
        },
        "id": "3MUj4OCQ-lCd",
        "outputId": "33a0e62b-c85a-47ef-db00-2880fc7c4934"
      },
      "execution_count": 485,
      "outputs": [
        {
          "output_type": "stream",
          "name": "stdout",
          "text": [
            "<class 'pandas.core.frame.DataFrame'>\n",
            "Int64Index: 45 entries, 1 to 49\n",
            "Data columns (total 37 columns):\n",
            " #   Column                             Non-Null Count  Dtype  \n",
            "---  ------                             --------------  -----  \n",
            " 0   AGE                                45 non-null     int64  \n",
            " 1   Duration of hospital stay IN DAYS  45 non-null     int64  \n",
            " 2   Fever                              45 non-null     int64  \n",
            " 3   Cough                              45 non-null     int64  \n",
            " 4   Sore throat                        45 non-null     int64  \n",
            " 5   Myalgia bodyache                   45 non-null     int64  \n",
            " 6   Breathlessness                     45 non-null     int64  \n",
            " 7   Other symptoms                     45 non-null     int64  \n",
            " 8   DM                                 45 non-null     int64  \n",
            " 9   HTN                                45 non-null     int64  \n",
            " 10  IHD                                45 non-null     int64  \n",
            " 11  Oxygen requirement                 45 non-null     int64  \n",
            " 12  Steroid                            45 non-null     int64  \n",
            " 13  hb                                 45 non-null     float64\n",
            " 14  tlc                                45 non-null     float64\n",
            " 15  crp                                45 non-null     float64\n",
            " 16  d dimer                            45 non-null     float64\n",
            " 17  creatinine                         45 non-null     float64\n",
            " 18  il6                                45 non-null     float64\n",
            " 19  ldh                                45 non-null     float64\n",
            " 20  ferritin                           45 non-null     float64\n",
            " 21  total bilirubin                    45 non-null     float64\n",
            " 22  alt                                45 non-null     float64\n",
            " 23  ast                                45 non-null     float64\n",
            " 24  albumin                            45 non-null     float64\n",
            " 25  hrct                               45 non-null     int64  \n",
            " 26  doam                               45 non-null     int64  \n",
            " 27  doadw                              45 non-null     int64  \n",
            " 28  dodm                               45 non-null     int64  \n",
            " 29  doddw                              45 non-null     int64  \n",
            " 30  swabm                              45 non-null     int64  \n",
            " 31  swabdw                             45 non-null     int64  \n",
            " 32  lenICUstay                         45 non-null     int64  \n",
            " 33  lenHOSstay                         45 non-null     int64  \n",
            " 34  std                                45 non-null     int64  \n",
            " 35  covid symp month                   45 non-null     int64  \n",
            " 36  covid symp dw                      45 non-null     int64  \n",
            "dtypes: float64(12), int64(25)\n",
            "memory usage: 13.4 KB\n"
          ]
        }
      ]
    },
    {
      "cell_type": "code",
      "source": [
        "from sklearn.model_selection import train_test_split"
      ],
      "metadata": {
        "id": "cr3qo18gQUJC"
      },
      "execution_count": 486,
      "outputs": []
    },
    {
      "cell_type": "code",
      "source": [
        "X = df.drop('AGE',axis=1).values\n",
        "y = df['AGE'].values"
      ],
      "metadata": {
        "id": "l6LzQSA2QXDB"
      },
      "execution_count": 487,
      "outputs": []
    },
    {
      "cell_type": "code",
      "source": [
        "X_train, X_test, y_train, y_test = train_test_split(X, y, test_size=0.20, random_state=101)"
      ],
      "metadata": {
        "id": "1Sg8BNTQQcps"
      },
      "execution_count": 488,
      "outputs": []
    },
    {
      "cell_type": "code",
      "source": [
        "from sklearn.preprocessing import MinMaxScaler"
      ],
      "metadata": {
        "id": "VQo9zjAGQe0U"
      },
      "execution_count": 489,
      "outputs": []
    },
    {
      "cell_type": "code",
      "source": [
        "scaler=MinMaxScaler()"
      ],
      "metadata": {
        "id": "GTD3riHVQhsc"
      },
      "execution_count": 490,
      "outputs": []
    },
    {
      "cell_type": "code",
      "source": [
        "X_train = scaler.fit_transform(X_train)"
      ],
      "metadata": {
        "id": "CioSAEkcQkVM"
      },
      "execution_count": 491,
      "outputs": []
    },
    {
      "cell_type": "code",
      "source": [
        "X_test = scaler.transform(X_test)"
      ],
      "metadata": {
        "id": "RRkuUNalQmzd"
      },
      "execution_count": 492,
      "outputs": []
    },
    {
      "cell_type": "code",
      "source": [
        "import tensorflow as tf\n",
        "from tensorflow.keras.models import Sequential\n",
        "from tensorflow.keras.layers import Dense, Activation,Dropout\n",
        "from tensorflow.keras.constraints import max_norm"
      ],
      "metadata": {
        "id": "I6JM4r2aQp28"
      },
      "execution_count": 493,
      "outputs": []
    },
    {
      "cell_type": "code",
      "source": [
        "model=Sequential()\n",
        "\n",
        "model.add(Dense(78,activation='relu'))\n",
        "model.add(Dropout(0.2))\n",
        "\n",
        "model.add(Dense(39,activation='relu'))\n",
        "model.add(Dropout(0.2))\n",
        "\n",
        "model.add(Dense(19,activation='relu'))\n",
        "model.add(Dropout(0.2))\n",
        "\n",
        "model.add(Dense(units=1,activation='linear'))\n",
        "\n",
        "model.compile(loss='mean_squared_error', optimizer='adam')"
      ],
      "metadata": {
        "id": "dA907wknQrvc"
      },
      "execution_count": 494,
      "outputs": []
    },
    {
      "cell_type": "code",
      "source": [
        "model.fit(x=X_train, y=y_train, batch_size=256, epochs=25,validation_data=(X_test,y_test))"
      ],
      "metadata": {
        "colab": {
          "base_uri": "https://localhost:8080/"
        },
        "id": "GAWpVYJFQ4cj",
        "outputId": "13e31f39-b389-4e4d-86a0-8c12c104547f"
      },
      "execution_count": 495,
      "outputs": [
        {
          "output_type": "stream",
          "name": "stdout",
          "text": [
            "Epoch 1/25\n",
            "1/1 [==============================] - 1s 1s/step - loss: 3476.8533 - val_loss: 2110.7632\n",
            "Epoch 2/25\n",
            "1/1 [==============================] - 0s 195ms/step - loss: 3471.1770 - val_loss: 2100.3467\n",
            "Epoch 3/25\n",
            "1/1 [==============================] - 0s 194ms/step - loss: 3445.0571 - val_loss: 2090.8154\n",
            "Epoch 4/25\n",
            "1/1 [==============================] - 0s 80ms/step - loss: 3436.1912 - val_loss: 2082.1602\n",
            "Epoch 5/25\n",
            "1/1 [==============================] - 0s 94ms/step - loss: 3436.1558 - val_loss: 2073.4844\n",
            "Epoch 6/25\n",
            "1/1 [==============================] - 0s 80ms/step - loss: 3417.9358 - val_loss: 2064.3452\n",
            "Epoch 7/25\n",
            "1/1 [==============================] - 0s 56ms/step - loss: 3392.8584 - val_loss: 2055.1494\n",
            "Epoch 8/25\n",
            "1/1 [==============================] - 0s 66ms/step - loss: 3377.6921 - val_loss: 2045.6300\n",
            "Epoch 9/25\n",
            "1/1 [==============================] - 0s 77ms/step - loss: 3362.8799 - val_loss: 2035.5616\n",
            "Epoch 10/25\n",
            "1/1 [==============================] - 0s 82ms/step - loss: 3359.8484 - val_loss: 2024.9978\n",
            "Epoch 11/25\n",
            "1/1 [==============================] - 0s 64ms/step - loss: 3338.4988 - val_loss: 2014.2168\n",
            "Epoch 12/25\n",
            "1/1 [==============================] - 0s 68ms/step - loss: 3320.7620 - val_loss: 2003.1577\n",
            "Epoch 13/25\n",
            "1/1 [==============================] - 0s 72ms/step - loss: 3289.7708 - val_loss: 1991.5026\n",
            "Epoch 14/25\n",
            "1/1 [==============================] - 0s 73ms/step - loss: 3299.8479 - val_loss: 1979.4609\n",
            "Epoch 15/25\n",
            "1/1 [==============================] - 0s 56ms/step - loss: 3300.2778 - val_loss: 1966.9202\n",
            "Epoch 16/25\n",
            "1/1 [==============================] - 0s 65ms/step - loss: 3236.2886 - val_loss: 1953.9501\n",
            "Epoch 17/25\n",
            "1/1 [==============================] - 0s 76ms/step - loss: 3221.2627 - val_loss: 1940.3999\n",
            "Epoch 18/25\n",
            "1/1 [==============================] - 0s 84ms/step - loss: 3224.9944 - val_loss: 1926.2209\n",
            "Epoch 19/25\n",
            "1/1 [==============================] - 0s 74ms/step - loss: 3175.1462 - val_loss: 1911.2271\n",
            "Epoch 20/25\n",
            "1/1 [==============================] - 0s 57ms/step - loss: 3198.3726 - val_loss: 1895.3802\n",
            "Epoch 21/25\n",
            "1/1 [==============================] - 0s 68ms/step - loss: 3165.2136 - val_loss: 1878.6111\n",
            "Epoch 22/25\n",
            "1/1 [==============================] - 0s 73ms/step - loss: 3109.8672 - val_loss: 1860.8982\n",
            "Epoch 23/25\n",
            "1/1 [==============================] - 0s 69ms/step - loss: 3105.6606 - val_loss: 1842.4299\n",
            "Epoch 24/25\n",
            "1/1 [==============================] - 0s 67ms/step - loss: 3084.4905 - val_loss: 1823.2435\n",
            "Epoch 25/25\n",
            "1/1 [==============================] - 0s 90ms/step - loss: 3025.7510 - val_loss: 1803.1073\n"
          ]
        },
        {
          "output_type": "execute_result",
          "data": {
            "text/plain": [
              "<keras.src.callbacks.History at 0x7d8cae241f00>"
            ]
          },
          "metadata": {},
          "execution_count": 495
        }
      ]
    },
    {
      "cell_type": "code",
      "source": [
        "from tensorflow.keras.models import load_model"
      ],
      "metadata": {
        "id": "9wvR-fPSRAFk"
      },
      "execution_count": 496,
      "outputs": []
    },
    {
      "cell_type": "code",
      "source": [
        "model.save('project.h5')"
      ],
      "metadata": {
        "id": "0rxxQnEDRUaL",
        "colab": {
          "base_uri": "https://localhost:8080/"
        },
        "outputId": "85803e43-753f-45a3-b85b-784de54673ab"
      },
      "execution_count": 497,
      "outputs": [
        {
          "output_type": "stream",
          "name": "stderr",
          "text": [
            "/usr/local/lib/python3.10/dist-packages/keras/src/engine/training.py:3000: UserWarning: You are saving your model as an HDF5 file via `model.save()`. This file format is considered legacy. We recommend using instead the native Keras format, e.g. `model.save('my_model.keras')`.\n",
            "  saving_api.save_model(\n"
          ]
        }
      ]
    },
    {
      "cell_type": "code",
      "source": [
        "loss=pd.DataFrame(model.history.history)"
      ],
      "metadata": {
        "id": "5o3lzZ0dRXAc"
      },
      "execution_count": 498,
      "outputs": []
    },
    {
      "cell_type": "code",
      "source": [
        "loss"
      ],
      "metadata": {
        "colab": {
          "base_uri": "https://localhost:8080/",
          "height": 833
        },
        "id": "RbMxRR_zRZx9",
        "outputId": "5a7720cf-75a0-41e1-e840-8eace0245952"
      },
      "execution_count": 499,
      "outputs": [
        {
          "output_type": "execute_result",
          "data": {
            "text/plain": [
              "           loss     val_loss\n",
              "0   3476.853271  2110.763184\n",
              "1   3471.177002  2100.346680\n",
              "2   3445.057129  2090.815430\n",
              "3   3436.191162  2082.160156\n",
              "4   3436.155762  2073.484375\n",
              "5   3417.935791  2064.345215\n",
              "6   3392.858398  2055.149414\n",
              "7   3377.692139  2045.630005\n",
              "8   3362.879883  2035.561646\n",
              "9   3359.848389  2024.997803\n",
              "10  3338.498779  2014.216797\n",
              "11  3320.761963  2003.157715\n",
              "12  3289.770752  1991.502563\n",
              "13  3299.847900  1979.460938\n",
              "14  3300.277832  1966.920166\n",
              "15  3236.288574  1953.950073\n",
              "16  3221.262695  1940.399902\n",
              "17  3224.994385  1926.220947\n",
              "18  3175.146240  1911.227051\n",
              "19  3198.372559  1895.380249\n",
              "20  3165.213623  1878.611084\n",
              "21  3109.867188  1860.898193\n",
              "22  3105.660645  1842.429932\n",
              "23  3084.490479  1823.243530\n",
              "24  3025.750977  1803.107300"
            ],
            "text/html": [
              "\n",
              "  <div id=\"df-dc412dc3-426e-4349-8e94-ead5c220f941\" class=\"colab-df-container\">\n",
              "    <div>\n",
              "<style scoped>\n",
              "    .dataframe tbody tr th:only-of-type {\n",
              "        vertical-align: middle;\n",
              "    }\n",
              "\n",
              "    .dataframe tbody tr th {\n",
              "        vertical-align: top;\n",
              "    }\n",
              "\n",
              "    .dataframe thead th {\n",
              "        text-align: right;\n",
              "    }\n",
              "</style>\n",
              "<table border=\"1\" class=\"dataframe\">\n",
              "  <thead>\n",
              "    <tr style=\"text-align: right;\">\n",
              "      <th></th>\n",
              "      <th>loss</th>\n",
              "      <th>val_loss</th>\n",
              "    </tr>\n",
              "  </thead>\n",
              "  <tbody>\n",
              "    <tr>\n",
              "      <th>0</th>\n",
              "      <td>3476.853271</td>\n",
              "      <td>2110.763184</td>\n",
              "    </tr>\n",
              "    <tr>\n",
              "      <th>1</th>\n",
              "      <td>3471.177002</td>\n",
              "      <td>2100.346680</td>\n",
              "    </tr>\n",
              "    <tr>\n",
              "      <th>2</th>\n",
              "      <td>3445.057129</td>\n",
              "      <td>2090.815430</td>\n",
              "    </tr>\n",
              "    <tr>\n",
              "      <th>3</th>\n",
              "      <td>3436.191162</td>\n",
              "      <td>2082.160156</td>\n",
              "    </tr>\n",
              "    <tr>\n",
              "      <th>4</th>\n",
              "      <td>3436.155762</td>\n",
              "      <td>2073.484375</td>\n",
              "    </tr>\n",
              "    <tr>\n",
              "      <th>5</th>\n",
              "      <td>3417.935791</td>\n",
              "      <td>2064.345215</td>\n",
              "    </tr>\n",
              "    <tr>\n",
              "      <th>6</th>\n",
              "      <td>3392.858398</td>\n",
              "      <td>2055.149414</td>\n",
              "    </tr>\n",
              "    <tr>\n",
              "      <th>7</th>\n",
              "      <td>3377.692139</td>\n",
              "      <td>2045.630005</td>\n",
              "    </tr>\n",
              "    <tr>\n",
              "      <th>8</th>\n",
              "      <td>3362.879883</td>\n",
              "      <td>2035.561646</td>\n",
              "    </tr>\n",
              "    <tr>\n",
              "      <th>9</th>\n",
              "      <td>3359.848389</td>\n",
              "      <td>2024.997803</td>\n",
              "    </tr>\n",
              "    <tr>\n",
              "      <th>10</th>\n",
              "      <td>3338.498779</td>\n",
              "      <td>2014.216797</td>\n",
              "    </tr>\n",
              "    <tr>\n",
              "      <th>11</th>\n",
              "      <td>3320.761963</td>\n",
              "      <td>2003.157715</td>\n",
              "    </tr>\n",
              "    <tr>\n",
              "      <th>12</th>\n",
              "      <td>3289.770752</td>\n",
              "      <td>1991.502563</td>\n",
              "    </tr>\n",
              "    <tr>\n",
              "      <th>13</th>\n",
              "      <td>3299.847900</td>\n",
              "      <td>1979.460938</td>\n",
              "    </tr>\n",
              "    <tr>\n",
              "      <th>14</th>\n",
              "      <td>3300.277832</td>\n",
              "      <td>1966.920166</td>\n",
              "    </tr>\n",
              "    <tr>\n",
              "      <th>15</th>\n",
              "      <td>3236.288574</td>\n",
              "      <td>1953.950073</td>\n",
              "    </tr>\n",
              "    <tr>\n",
              "      <th>16</th>\n",
              "      <td>3221.262695</td>\n",
              "      <td>1940.399902</td>\n",
              "    </tr>\n",
              "    <tr>\n",
              "      <th>17</th>\n",
              "      <td>3224.994385</td>\n",
              "      <td>1926.220947</td>\n",
              "    </tr>\n",
              "    <tr>\n",
              "      <th>18</th>\n",
              "      <td>3175.146240</td>\n",
              "      <td>1911.227051</td>\n",
              "    </tr>\n",
              "    <tr>\n",
              "      <th>19</th>\n",
              "      <td>3198.372559</td>\n",
              "      <td>1895.380249</td>\n",
              "    </tr>\n",
              "    <tr>\n",
              "      <th>20</th>\n",
              "      <td>3165.213623</td>\n",
              "      <td>1878.611084</td>\n",
              "    </tr>\n",
              "    <tr>\n",
              "      <th>21</th>\n",
              "      <td>3109.867188</td>\n",
              "      <td>1860.898193</td>\n",
              "    </tr>\n",
              "    <tr>\n",
              "      <th>22</th>\n",
              "      <td>3105.660645</td>\n",
              "      <td>1842.429932</td>\n",
              "    </tr>\n",
              "    <tr>\n",
              "      <th>23</th>\n",
              "      <td>3084.490479</td>\n",
              "      <td>1823.243530</td>\n",
              "    </tr>\n",
              "    <tr>\n",
              "      <th>24</th>\n",
              "      <td>3025.750977</td>\n",
              "      <td>1803.107300</td>\n",
              "    </tr>\n",
              "  </tbody>\n",
              "</table>\n",
              "</div>\n",
              "    <div class=\"colab-df-buttons\">\n",
              "\n",
              "  <div class=\"colab-df-container\">\n",
              "    <button class=\"colab-df-convert\" onclick=\"convertToInteractive('df-dc412dc3-426e-4349-8e94-ead5c220f941')\"\n",
              "            title=\"Convert this dataframe to an interactive table.\"\n",
              "            style=\"display:none;\">\n",
              "\n",
              "  <svg xmlns=\"http://www.w3.org/2000/svg\" height=\"24px\" viewBox=\"0 -960 960 960\">\n",
              "    <path d=\"M120-120v-720h720v720H120Zm60-500h600v-160H180v160Zm220 220h160v-160H400v160Zm0 220h160v-160H400v160ZM180-400h160v-160H180v160Zm440 0h160v-160H620v160ZM180-180h160v-160H180v160Zm440 0h160v-160H620v160Z\"/>\n",
              "  </svg>\n",
              "    </button>\n",
              "\n",
              "  <style>\n",
              "    .colab-df-container {\n",
              "      display:flex;\n",
              "      gap: 12px;\n",
              "    }\n",
              "\n",
              "    .colab-df-convert {\n",
              "      background-color: #E8F0FE;\n",
              "      border: none;\n",
              "      border-radius: 50%;\n",
              "      cursor: pointer;\n",
              "      display: none;\n",
              "      fill: #1967D2;\n",
              "      height: 32px;\n",
              "      padding: 0 0 0 0;\n",
              "      width: 32px;\n",
              "    }\n",
              "\n",
              "    .colab-df-convert:hover {\n",
              "      background-color: #E2EBFA;\n",
              "      box-shadow: 0px 1px 2px rgba(60, 64, 67, 0.3), 0px 1px 3px 1px rgba(60, 64, 67, 0.15);\n",
              "      fill: #174EA6;\n",
              "    }\n",
              "\n",
              "    .colab-df-buttons div {\n",
              "      margin-bottom: 4px;\n",
              "    }\n",
              "\n",
              "    [theme=dark] .colab-df-convert {\n",
              "      background-color: #3B4455;\n",
              "      fill: #D2E3FC;\n",
              "    }\n",
              "\n",
              "    [theme=dark] .colab-df-convert:hover {\n",
              "      background-color: #434B5C;\n",
              "      box-shadow: 0px 1px 3px 1px rgba(0, 0, 0, 0.15);\n",
              "      filter: drop-shadow(0px 1px 2px rgba(0, 0, 0, 0.3));\n",
              "      fill: #FFFFFF;\n",
              "    }\n",
              "  </style>\n",
              "\n",
              "    <script>\n",
              "      const buttonEl =\n",
              "        document.querySelector('#df-dc412dc3-426e-4349-8e94-ead5c220f941 button.colab-df-convert');\n",
              "      buttonEl.style.display =\n",
              "        google.colab.kernel.accessAllowed ? 'block' : 'none';\n",
              "\n",
              "      async function convertToInteractive(key) {\n",
              "        const element = document.querySelector('#df-dc412dc3-426e-4349-8e94-ead5c220f941');\n",
              "        const dataTable =\n",
              "          await google.colab.kernel.invokeFunction('convertToInteractive',\n",
              "                                                    [key], {});\n",
              "        if (!dataTable) return;\n",
              "\n",
              "        const docLinkHtml = 'Like what you see? Visit the ' +\n",
              "          '<a target=\"_blank\" href=https://colab.research.google.com/notebooks/data_table.ipynb>data table notebook</a>'\n",
              "          + ' to learn more about interactive tables.';\n",
              "        element.innerHTML = '';\n",
              "        dataTable['output_type'] = 'display_data';\n",
              "        await google.colab.output.renderOutput(dataTable, element);\n",
              "        const docLink = document.createElement('div');\n",
              "        docLink.innerHTML = docLinkHtml;\n",
              "        element.appendChild(docLink);\n",
              "      }\n",
              "    </script>\n",
              "  </div>\n",
              "\n",
              "\n",
              "<div id=\"df-c525125b-3fba-4fe5-9e76-7ee4d69a8e52\">\n",
              "  <button class=\"colab-df-quickchart\" onclick=\"quickchart('df-c525125b-3fba-4fe5-9e76-7ee4d69a8e52')\"\n",
              "            title=\"Suggest charts.\"\n",
              "            style=\"display:none;\">\n",
              "\n",
              "<svg xmlns=\"http://www.w3.org/2000/svg\" height=\"24px\"viewBox=\"0 0 24 24\"\n",
              "     width=\"24px\">\n",
              "    <g>\n",
              "        <path d=\"M19 3H5c-1.1 0-2 .9-2 2v14c0 1.1.9 2 2 2h14c1.1 0 2-.9 2-2V5c0-1.1-.9-2-2-2zM9 17H7v-7h2v7zm4 0h-2V7h2v10zm4 0h-2v-4h2v4z\"/>\n",
              "    </g>\n",
              "</svg>\n",
              "  </button>\n",
              "\n",
              "<style>\n",
              "  .colab-df-quickchart {\n",
              "      --bg-color: #E8F0FE;\n",
              "      --fill-color: #1967D2;\n",
              "      --hover-bg-color: #E2EBFA;\n",
              "      --hover-fill-color: #174EA6;\n",
              "      --disabled-fill-color: #AAA;\n",
              "      --disabled-bg-color: #DDD;\n",
              "  }\n",
              "\n",
              "  [theme=dark] .colab-df-quickchart {\n",
              "      --bg-color: #3B4455;\n",
              "      --fill-color: #D2E3FC;\n",
              "      --hover-bg-color: #434B5C;\n",
              "      --hover-fill-color: #FFFFFF;\n",
              "      --disabled-bg-color: #3B4455;\n",
              "      --disabled-fill-color: #666;\n",
              "  }\n",
              "\n",
              "  .colab-df-quickchart {\n",
              "    background-color: var(--bg-color);\n",
              "    border: none;\n",
              "    border-radius: 50%;\n",
              "    cursor: pointer;\n",
              "    display: none;\n",
              "    fill: var(--fill-color);\n",
              "    height: 32px;\n",
              "    padding: 0;\n",
              "    width: 32px;\n",
              "  }\n",
              "\n",
              "  .colab-df-quickchart:hover {\n",
              "    background-color: var(--hover-bg-color);\n",
              "    box-shadow: 0 1px 2px rgba(60, 64, 67, 0.3), 0 1px 3px 1px rgba(60, 64, 67, 0.15);\n",
              "    fill: var(--button-hover-fill-color);\n",
              "  }\n",
              "\n",
              "  .colab-df-quickchart-complete:disabled,\n",
              "  .colab-df-quickchart-complete:disabled:hover {\n",
              "    background-color: var(--disabled-bg-color);\n",
              "    fill: var(--disabled-fill-color);\n",
              "    box-shadow: none;\n",
              "  }\n",
              "\n",
              "  .colab-df-spinner {\n",
              "    border: 2px solid var(--fill-color);\n",
              "    border-color: transparent;\n",
              "    border-bottom-color: var(--fill-color);\n",
              "    animation:\n",
              "      spin 1s steps(1) infinite;\n",
              "  }\n",
              "\n",
              "  @keyframes spin {\n",
              "    0% {\n",
              "      border-color: transparent;\n",
              "      border-bottom-color: var(--fill-color);\n",
              "      border-left-color: var(--fill-color);\n",
              "    }\n",
              "    20% {\n",
              "      border-color: transparent;\n",
              "      border-left-color: var(--fill-color);\n",
              "      border-top-color: var(--fill-color);\n",
              "    }\n",
              "    30% {\n",
              "      border-color: transparent;\n",
              "      border-left-color: var(--fill-color);\n",
              "      border-top-color: var(--fill-color);\n",
              "      border-right-color: var(--fill-color);\n",
              "    }\n",
              "    40% {\n",
              "      border-color: transparent;\n",
              "      border-right-color: var(--fill-color);\n",
              "      border-top-color: var(--fill-color);\n",
              "    }\n",
              "    60% {\n",
              "      border-color: transparent;\n",
              "      border-right-color: var(--fill-color);\n",
              "    }\n",
              "    80% {\n",
              "      border-color: transparent;\n",
              "      border-right-color: var(--fill-color);\n",
              "      border-bottom-color: var(--fill-color);\n",
              "    }\n",
              "    90% {\n",
              "      border-color: transparent;\n",
              "      border-bottom-color: var(--fill-color);\n",
              "    }\n",
              "  }\n",
              "</style>\n",
              "\n",
              "  <script>\n",
              "    async function quickchart(key) {\n",
              "      const quickchartButtonEl =\n",
              "        document.querySelector('#' + key + ' button');\n",
              "      quickchartButtonEl.disabled = true;  // To prevent multiple clicks.\n",
              "      quickchartButtonEl.classList.add('colab-df-spinner');\n",
              "      try {\n",
              "        const charts = await google.colab.kernel.invokeFunction(\n",
              "            'suggestCharts', [key], {});\n",
              "      } catch (error) {\n",
              "        console.error('Error during call to suggestCharts:', error);\n",
              "      }\n",
              "      quickchartButtonEl.classList.remove('colab-df-spinner');\n",
              "      quickchartButtonEl.classList.add('colab-df-quickchart-complete');\n",
              "    }\n",
              "    (() => {\n",
              "      let quickchartButtonEl =\n",
              "        document.querySelector('#df-c525125b-3fba-4fe5-9e76-7ee4d69a8e52 button');\n",
              "      quickchartButtonEl.style.display =\n",
              "        google.colab.kernel.accessAllowed ? 'block' : 'none';\n",
              "    })();\n",
              "  </script>\n",
              "</div>\n",
              "    </div>\n",
              "  </div>\n"
            ]
          },
          "metadata": {},
          "execution_count": 499
        }
      ]
    },
    {
      "cell_type": "code",
      "source": [
        "loss[['loss','val_loss']].plot()"
      ],
      "metadata": {
        "colab": {
          "base_uri": "https://localhost:8080/",
          "height": 447
        },
        "id": "txSK7FJwRc-r",
        "outputId": "868f64cc-49b4-42d6-cf8f-6e09788c1560"
      },
      "execution_count": 500,
      "outputs": [
        {
          "output_type": "execute_result",
          "data": {
            "text/plain": [
              "<Axes: >"
            ]
          },
          "metadata": {},
          "execution_count": 500
        },
        {
          "output_type": "display_data",
          "data": {
            "text/plain": [
              "<Figure size 640x480 with 1 Axes>"
            ],
            "image/png": "[encoded data removed]"
          },
          "metadata": {}
        }
      ]
    },
    {
      "cell_type": "code",
      "source": [
        "from sklearn.metrics import classification_report,confusion_matrix"
      ],
      "metadata": {
        "id": "HziLJkTyRj3T"
      },
      "execution_count": 501,
      "outputs": []
    },
    {
      "cell_type": "code",
      "source": [
        "predict=model.predict(X_test)\n",
        "classes=np.argmax(predict,axis=1)"
      ],
      "metadata": {
        "colab": {
          "base_uri": "https://localhost:8080/"
        },
        "id": "bvBRJWBhRmmD",
        "outputId": "8437dd9a-fa8b-493a-a284-eda9ea1ee5c2"
      },
      "execution_count": 502,
      "outputs": [
        {
          "output_type": "stream",
          "name": "stderr",
          "text": [
            "WARNING:tensorflow:5 out of the last 13 calls to <function Model.make_predict_function.<locals>.predict_function at 0x7d8cae3ab5b0> triggered tf.function retracing. Tracing is expensive and the excessive number of tracings could be due to (1) creating @tf.function repeatedly in a loop, (2) passing tensors with different shapes, (3) passing Python objects instead of tensors. For (1), please define your @tf.function outside of the loop. For (2), @tf.function has reduce_retracing=True option that can avoid unnecessary retracing. For (3), please refer to https://www.tensorflow.org/guide/function#controlling_retracing and https://www.tensorflow.org/api_docs/python/tf/function for  more details.\n"
          ]
        },
        {
          "output_type": "stream",
          "name": "stdout",
          "text": [
            "1/1 [==============================] - 0s 118ms/step\n"
          ]
        }
      ]
    },
    {
      "cell_type": "code",
      "source": [
        "print(confusion_matrix(y_test,classes))"
      ],
      "metadata": {
        "colab": {
          "base_uri": "https://localhost:8080/"
        },
        "id": "ykIOQQQcRpqD",
        "outputId": "0d1e92a6-9cc2-4aed-ca08-3984c765922c"
      },
      "execution_count": 503,
      "outputs": [
        {
          "output_type": "stream",
          "name": "stdout",
          "text": [
            "[[0 0 0 0 0 0 0 0]\n",
            " [1 0 0 0 0 0 0 0]\n",
            " [1 0 0 0 0 0 0 0]\n",
            " [2 0 0 0 0 0 0 0]\n",
            " [2 0 0 0 0 0 0 0]\n",
            " [1 0 0 0 0 0 0 0]\n",
            " [1 0 0 0 0 0 0 0]\n",
            " [1 0 0 0 0 0 0 0]]\n"
          ]
        }
      ]
    },
    {
      "cell_type": "code",
      "source": [
        "import random\n",
        "random.seed(101)\n",
        "random_ind = random.randint(0,len(df))\n",
        "\n",
        "new = df.drop('AGE',axis=1).iloc[random_ind]\n",
        "new"
      ],
      "metadata": {
        "colab": {
          "base_uri": "https://localhost:8080/"
        },
        "id": "aEtc3jn2Rr9s",
        "outputId": "0a0f2e78-a067-49ee-854e-dd66cbe95042"
      },
      "execution_count": 504,
      "outputs": [
        {
          "output_type": "execute_result",
          "data": {
            "text/plain": [
              "Duration of hospital stay IN DAYS      10.000\n",
              "Fever                                   1.000\n",
              "Cough                                   1.000\n",
              "Sore throat                             0.000\n",
              "Myalgia bodyache                        1.000\n",
              "Breathlessness                          0.000\n",
              "Other symptoms                          0.000\n",
              "DM                                      1.000\n",
              "HTN                                     0.000\n",
              "IHD                                     0.000\n",
              "Oxygen requirement                      0.000\n",
              "Steroid                                 1.000\n",
              "hb                                     12.100\n",
              "tlc                                  6200.000\n",
              "crp                                    22.100\n",
              "d dimer                               200.000\n",
              "creatinine                              1.100\n",
              "il6                                     5.302\n",
              "ldh                                   100.000\n",
              "ferritin                               80.000\n",
              "total bilirubin                         0.800\n",
              "alt                                    22.000\n",
              "ast                                    16.000\n",
              "albumin                                 3.200\n",
              "hrct                                    6.000\n",
              "doam                                    9.000\n",
              "doadw                                   1.000\n",
              "dodm                                   10.000\n",
              "doddw                                   3.000\n",
              "swabm                                   9.000\n",
              "swabdw                                  1.000\n",
              "lenICUstay                              5.000\n",
              "lenHOSstay                             10.000\n",
              "std                                    10.000\n",
              "covid symp month                        9.000\n",
              "covid symp dw                           4.000\n",
              "Name: 42, dtype: float64"
            ]
          },
          "metadata": {},
          "execution_count": 504
        }
      ]
    },
    {
      "cell_type": "code",
      "source": [
        "# Apply the same scaling to new as you did to X_train\n",
        "new_scaled = scaler.transform(new.values.reshape(1, 36))\n",
        "\n",
        "# Make a prediction\n",
        "prediction = model.predict(new_scaled)\n",
        "\n",
        "# Print the predicted age\n",
        "print(prediction)\n"
      ],
      "metadata": {
        "colab": {
          "base_uri": "https://localhost:8080/"
        },
        "id": "9_8Pyd7QmOYe",
        "outputId": "5c67f39e-ce53-41b7-860d-35ec3dfcb24d"
      },
      "execution_count": 505,
      "outputs": [
        {
          "output_type": "stream",
          "name": "stdout",
          "text": [
            "1/1 [==============================] - 0s 39ms/step\n",
            "[[3.9001935]]\n"
          ]
        }
      ]
    }
  ]
}